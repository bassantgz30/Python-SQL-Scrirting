{
 "cells": [
  {
   "cell_type": "code",
   "execution_count": 2,
   "metadata": {},
   "outputs": [],
   "source": [
    "import sqlite3\n",
    "\n",
    "connection = sqlite3.connect('sample.db')\n",
    "cursor = connection.cursor()"
   ]
  },
  {
   "cell_type": "code",
   "execution_count": 6,
   "metadata": {},
   "outputs": [
    {
     "name": "stdout",
     "output_type": "stream",
     "text": [
      "(1, 'Madeline', 'Nichols')\n",
      "(2, 'Matthew', 'Conner')\n",
      "(3, 'Jessica', 'Payne')\n",
      "(4, 'Felicia', 'Morris')\n",
      "(5, 'Anita', 'Le')\n",
      "(6, 'Jonathan', 'Davis')\n",
      "(7, 'John', 'Rangel')\n",
      "(8, 'Courtney', 'Stone')\n",
      "(9, 'Kenneth', 'Mclaughlin')\n",
      "(10, 'Justin', 'Mayo')\n"
     ]
    }
   ],
   "source": [
    "query = 'SELECT * FROM People LIMIT 10'\n",
    "\n",
    "for row in cursor.execute(query):\n",
    "    print(row)"
   ]
  },
  {
   "cell_type": "code",
   "execution_count": 7,
   "metadata": {},
   "outputs": [
    {
     "name": "stdout",
     "output_type": "stream",
     "text": [
      "(57, 'Aaron', 'Hardy')\n",
      "(35, 'Alexis', 'Scott')\n",
      "(50, 'Amy', 'Lopez')\n",
      "(80, 'Amy', 'Mason')\n",
      "(82, 'Amy', 'Cameron')\n",
      "(31, 'Ana', 'Castro')\n",
      "(63, 'Andrew', 'Nguyen')\n",
      "(66, 'Andrew', 'Cunningham')\n",
      "(42, 'Angela', 'Adams')\n",
      "(5, 'Anita', 'Le')\n",
      "(29, 'Austin', 'Fischer')\n",
      "(56, 'Billy', 'Richards')\n",
      "(79, 'Brandon', 'Ware')\n",
      "(22, 'Brenda', 'Goodwin')\n",
      "(44, 'Caroline', 'Jackson')\n",
      "(88, 'Casey', 'Thompson')\n",
      "(40, 'Chase', 'Campbell')\n",
      "(58, 'Chelsey', 'Nash')\n",
      "(30, 'Cheryl', 'Evans')\n",
      "(71, 'Christine', 'Richardson')\n",
      "(96, 'Christine', 'Cabrera')\n",
      "(26, 'Cindy', 'Smith')\n",
      "(43, 'Cindy', 'Tate')\n",
      "(76, 'Cody', 'Clark')\n",
      "(8, 'Courtney', 'Stone')\n",
      "(33, 'Derek', 'Pierce')\n",
      "(54, 'Derrick', 'Parker')\n",
      "(16, 'Diana', 'Wang')\n",
      "(86, 'Diane', 'Schwartz')\n",
      "(47, 'Dorothy', 'Richard')\n",
      "(70, 'Dustin', 'Gill')\n",
      "(68, 'Edward', 'Scott')\n",
      "(32, 'Elaine', 'Howe')\n",
      "(45, 'Elizabeth', 'Beck')\n",
      "(75, 'Emma', 'Edwards')\n",
      "(4, 'Felicia', 'Morris')\n",
      "(48, 'Gabriel', 'Cox')\n",
      "(78, 'Garrett', 'Rodgers')\n",
      "(25, 'Haley', 'Martin')\n",
      "(38, 'Jaclyn', 'Walter')\n",
      "(15, 'Jacqueline', 'Tran')\n",
      "(27, 'Janet', 'Lucas')\n",
      "(95, 'Jay', 'Brown')\n",
      "(52, 'Jeremy', 'Holland')\n",
      "(3, 'Jessica', 'Payne')\n",
      "(85, 'Jo', 'Cain')\n",
      "(55, 'Jodi', 'Bridges')\n",
      "(7, 'John', 'Rangel')\n",
      "(28, 'John', 'Martinez')\n",
      "(6, 'Jonathan', 'Davis')\n",
      "(41, 'Jose', 'Williams')\n",
      "(12, 'Joseph', 'Smith')\n",
      "(73, 'Joseph', 'Edwards')\n",
      "(61, 'Julia', 'Smith')\n",
      "(83, 'Julie', 'Greene')\n",
      "(10, 'Justin', 'Mayo')\n",
      "(19, 'Justin', 'Wade')\n",
      "(9, 'Kenneth', 'Mclaughlin')\n",
      "(69, 'Kevin', 'Dean')\n",
      "(18, 'Kim', 'Martinez')\n",
      "(1, 'Madeline', 'Nichols')\n",
      "(13, 'Maria', 'Mccall')\n",
      "(53, 'Mark', 'Davis')\n",
      "(2, 'Matthew', 'Conner')\n",
      "(14, 'Matthew', 'Smith')\n",
      "(72, 'Matthew', 'Cooper')\n",
      "(24, 'Megan', 'Rose')\n",
      "(51, 'Michael', 'Douglas')\n",
      "(77, 'Michael', 'Davis')\n",
      "(36, 'Michelle', 'Castro')\n",
      "(74, 'Monica', 'Moore')\n",
      "(11, 'Morgan', 'Fisher')\n",
      "(17, 'Ray', 'Hernandez')\n",
      "(87, 'Robert', 'Mcgee')\n",
      "(46, 'Ronald', 'Aguilar')\n",
      "(81, 'Ryan', 'Grimes')\n",
      "(49, 'Sara', 'Stephenson')\n",
      "(21, 'Scott', 'Cruz')\n",
      "(65, 'Sean', 'Meyers')\n",
      "(20, 'Shane', 'Black')\n",
      "(84, 'Sharon', 'Parker')\n",
      "(93, 'Spencer', 'Dickson')\n",
      "(91, 'Stacey', 'Price')\n",
      "(89, 'Stephanie', 'Harris')\n",
      "(64, 'Tammy', 'Morse')\n",
      "(62, 'Taylor', 'Moore')\n",
      "(59, 'Terry', 'Macdonald')\n",
      "(90, 'Terry', 'Bradley')\n",
      "(67, 'Timothy', 'Williams')\n",
      "(23, 'Tina', 'Sandoval')\n",
      "(37, 'Tony', 'Wolfe')\n",
      "(34, 'Travis', 'Lewis')\n",
      "(39, 'Wayne', 'Williams')\n",
      "(60, 'Wayne', 'Barnes')\n",
      "(92, 'Whitney', 'Ochoa')\n",
      "(94, 'William', 'Taylor')\n"
     ]
    }
   ],
   "source": [
    "# order by the first name asc\n",
    "query = 'SELECT * FROM People ORDER BY name'\n",
    "for row in cursor.execute(query):\n",
    "    print(row)"
   ]
  },
  {
   "cell_type": "code",
   "execution_count": 9,
   "metadata": {},
   "outputs": [
    {
     "name": "stdout",
     "output_type": "stream",
     "text": [
      "(22, 'Brenda', 'Goodwin')\n",
      "(56, 'Billy', 'Richards')\n",
      "(79, 'Brandon', 'Ware')\n"
     ]
    }
   ],
   "source": [
    "# get the names that start with B\n",
    "query = 'SELECT * FROM People WHERE name LIKE \"B%\"'\n",
    "for row in cursor.execute(query):\n",
    "    print(row)"
   ]
  },
  {
   "cell_type": "code",
   "execution_count": 14,
   "metadata": {},
   "outputs": [
    {
     "name": "stdout",
     "output_type": "stream",
     "text": [
      "(5, 'Anita', 'Le')\n",
      "(31, 'Ana', 'Castro')\n",
      "(42, 'Angela', 'Adams')\n",
      "(63, 'Andrew', 'Nguyen')\n",
      "(66, 'Andrew', 'Cunningham')\n"
     ]
    }
   ],
   "source": [
    "query = 'SELECT * FROM People WHERE name LIKE \"An%\"'\n",
    "for row in cursor.execute(query):\n",
    "    print(row)"
   ]
  }
 ],
 "metadata": {
  "kernelspec": {
   "display_name": "Python 3",
   "language": "python",
   "name": "python3"
  },
  "language_info": {
   "codemirror_mode": {
    "name": "ipython",
    "version": 3
   },
   "file_extension": ".py",
   "mimetype": "text/x-python",
   "name": "python",
   "nbconvert_exporter": "python",
   "pygments_lexer": "ipython3",
   "version": "3.10.4"
  },
  "orig_nbformat": 4,
  "vscode": {
   "interpreter": {
    "hash": "3ad933181bd8a04b432d3370b9dc3b0662ad032c4dfaa4e4f1596c548f763858"
   }
  }
 },
 "nbformat": 4,
 "nbformat_minor": 2
}
